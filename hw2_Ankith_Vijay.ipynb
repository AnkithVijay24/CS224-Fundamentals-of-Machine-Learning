{
 "cells": [
  {
   "cell_type": "markdown",
   "metadata": {
    "id": "UKc8K9_57UEz"
   },
   "source": [
    "# CS224 - Winter 2023 - PROGRAMMING ASSIGNMENT 2 - LINEAR AND LOGISTIC REGRESSION\n",
    "\n",
    "**Due**: March 3, 2023 @ 11:59pm PDT\n",
    "\n",
    "**Maximum points**: 20"
   ]
  },
  {
   "cell_type": "markdown",
   "metadata": {
    "id": "JL5tIX4c9z6s"
   },
   "source": [
    "<div style=\"margin-bottom: 15px; padding: 15px; color: #31708f; background-color: #d9edf7; border: 1px solid #bce8f1; border-radius: 5px;\">\n",
    "    \n",
    "<b><font size=+2>Enter your information below:</font></b></br></br>\n",
    "\n",
    "  <b>(full) Name</b>: Ankith Vijay\n",
    "  </br>\n",
    "  <b>Student ID Number</b>:  862394125\n",
    "  </br></br>\n",
    "    \n",
    "<b>By submitting this notebook, I assert that the work below is my own work, completed for this course.  Except where explicitly cited, none of the portions of this notebook are duplicated from anyone else's work or my own previous work.</b>\n",
    "</div>"
   ]
  },
  {
   "cell_type": "markdown",
   "metadata": {
    "id": "coxduSVB9gut"
   },
   "source": [
    "<div style=\"padding: 15px; color: #8a6d3b; background-color: #fcf8e3; border: 1px solid #faebcc; border-radius: 5px;\">\n",
    "<b><font size=+2>Academic Integrity</font></b></br> \n",
    "Each assignment should be done  individually. You may discuss general approaches with other students in the class, and ask questions to the TA, but  you must only submit work that is yours . If you receive help by any external sources (other than the TA and the instructor), you must properly credit those sources. The UCR Academic Integrity policies are available at <a href=\"http://conduct.ucr.edu/policies/academicintegrity.html\" target=\"_blank\">http://conduct.ucr.edu/policies/academicintegrity.html</a>.\n",
    "</div>"
   ]
  },
  {
   "cell_type": "markdown",
   "metadata": {
    "id": "hsywQWEI8pzj"
   },
   "source": [
    "# Overview \n",
    "In this assignment you will implement and test two supervised learning algorithms: linear regression (Question 1) and logistic regression (Question 2). \n",
    "\n",
    "For this assignment we will use the functionality of [Pandas](https://pandas.pydata.org/), [Matplotlib](https://matplotlib.org/), and [Numpy](http://www.numpy.org/).\n",
    "\n",
    "If you are asked to **implement** a particular functionality, you should **not** use an existing implementation from the libraries above (or some other library that you may find). When in doubt, please ask. \n",
    "\n",
    "Before you start, make sure you have installed all those packages in your local Jupyter instance.\n",
    "\n",
    "\n",
    "Read **all** cells carefully and answer **all** parts (both text and missing code). You will complete all the code marked `TODO` and answer descriptive/derivation questions."
   ]
  },
  {
   "cell_type": "code",
   "execution_count": 116,
   "metadata": {
    "id": "NM7-Cx4H-jTt"
   },
   "outputs": [],
   "source": [
    "import numpy as np\n",
    "import pandas as pd\n",
    "import matplotlib.pyplot as plt\n",
    "# import random as rand\n",
    "from sklearn.model_selection import train_test_split \n"
   ]
  },
  {
   "cell_type": "markdown",
   "metadata": {
    "id": "WHgsgFGF-kNA"
   },
   "source": [
    "# **Question 1: Linear Regression [12 points]**\n",
    "We will implement linear regression using direct solution and gradient descent. \n",
    "\n",
    "We will first attempt to predict output using a single attribute/feature. Then we will perform linear regression using multiple attributes/features. "
   ]
  },
  {
   "cell_type": "markdown",
   "metadata": {
    "id": "VR37r18FtEPo"
   },
   "source": [
    "### **Getting data [1 point]**\n",
    "In this assignment we will use the Boston housing dataset. \n",
    "\n",
    "The Boston housing data set was collected in the 1970s to study the relationship between house price and various factors such as the house size, crime rate, socio-economic status, etc.  Since the variables are easy to understand, the data set is ideal for learning basic concepts in machine learning.  The raw data and a complete description of the dataset can be found on the UCI website:\n",
    "https://archive.ics.uci.edu/ml/machine-learning-databases/housing/housing.names, \n",
    "https://archive.ics.uci.edu/ml/machine-learning-databases/housing/housing.data\n",
    "\n",
    "or \n",
    "\n",
    "http://www.ccs.neu.edu/home/vip/teach/MLcourse/data/housing_desc.txt\n",
    "\n",
    "I have supplied a list `names` of the column headers.  You will have to set the options in the `read_csv` command to correctly delimit the data in the file and name the columns correctly."
   ]
  },
  {
   "cell_type": "code",
   "execution_count": 117,
   "metadata": {
    "id": "PTv71Plf-vZJ"
   },
   "outputs": [],
   "source": [
    "names =[\n",
    "    'CRIM', 'ZN', 'INDUS', 'CHAS', 'NOX', 'RM', \n",
    "    'AGE',  'DIS', 'RAD', 'TAX', 'PTRATIO', 'B', 'LSTAT', 'PRICE'\n",
    "]\n",
    "\n",
    "df = pd.read_csv('https://archive.ics.uci.edu/ml/machine-learning-databases/housing/housing.data',\n",
    "                 header=None,delim_whitespace=True,names=names,na_values='?')"
   ]
  },
  {
   "cell_type": "markdown",
   "metadata": {
    "id": "ywadWSHsYEZd"
   },
   "source": [
    "Create a response vector `y` with the values in the column `PRICE`.  The vector `y` should be a 1D `numpy.array` structure."
   ]
  },
  {
   "cell_type": "code",
   "execution_count": 118,
   "metadata": {
    "id": "p2-zIA5vYOHA"
   },
   "outputs": [
    {
     "data": {
      "text/html": [
       "<div>\n",
       "<style scoped>\n",
       "    .dataframe tbody tr th:only-of-type {\n",
       "        vertical-align: middle;\n",
       "    }\n",
       "\n",
       "    .dataframe tbody tr th {\n",
       "        vertical-align: top;\n",
       "    }\n",
       "\n",
       "    .dataframe thead th {\n",
       "        text-align: right;\n",
       "    }\n",
       "</style>\n",
       "<table border=\"1\" class=\"dataframe\">\n",
       "  <thead>\n",
       "    <tr style=\"text-align: right;\">\n",
       "      <th></th>\n",
       "      <th>CRIM</th>\n",
       "      <th>ZN</th>\n",
       "      <th>INDUS</th>\n",
       "      <th>CHAS</th>\n",
       "      <th>NOX</th>\n",
       "      <th>RM</th>\n",
       "      <th>AGE</th>\n",
       "      <th>DIS</th>\n",
       "      <th>RAD</th>\n",
       "      <th>TAX</th>\n",
       "      <th>PTRATIO</th>\n",
       "      <th>B</th>\n",
       "      <th>LSTAT</th>\n",
       "      <th>PRICE</th>\n",
       "    </tr>\n",
       "  </thead>\n",
       "  <tbody>\n",
       "    <tr>\n",
       "      <th>count</th>\n",
       "      <td>506.000000</td>\n",
       "      <td>506.000000</td>\n",
       "      <td>506.000000</td>\n",
       "      <td>506.000000</td>\n",
       "      <td>506.000000</td>\n",
       "      <td>506.000000</td>\n",
       "      <td>506.000000</td>\n",
       "      <td>506.000000</td>\n",
       "      <td>506.000000</td>\n",
       "      <td>506.000000</td>\n",
       "      <td>506.000000</td>\n",
       "      <td>506.000000</td>\n",
       "      <td>506.000000</td>\n",
       "      <td>506.000000</td>\n",
       "    </tr>\n",
       "    <tr>\n",
       "      <th>mean</th>\n",
       "      <td>3.613524</td>\n",
       "      <td>11.363636</td>\n",
       "      <td>11.136779</td>\n",
       "      <td>0.069170</td>\n",
       "      <td>0.554695</td>\n",
       "      <td>6.284634</td>\n",
       "      <td>68.574901</td>\n",
       "      <td>3.795043</td>\n",
       "      <td>9.549407</td>\n",
       "      <td>408.237154</td>\n",
       "      <td>18.455534</td>\n",
       "      <td>356.674032</td>\n",
       "      <td>12.653063</td>\n",
       "      <td>22.532806</td>\n",
       "    </tr>\n",
       "    <tr>\n",
       "      <th>std</th>\n",
       "      <td>8.601545</td>\n",
       "      <td>23.322453</td>\n",
       "      <td>6.860353</td>\n",
       "      <td>0.253994</td>\n",
       "      <td>0.115878</td>\n",
       "      <td>0.702617</td>\n",
       "      <td>28.148861</td>\n",
       "      <td>2.105710</td>\n",
       "      <td>8.707259</td>\n",
       "      <td>168.537116</td>\n",
       "      <td>2.164946</td>\n",
       "      <td>91.294864</td>\n",
       "      <td>7.141062</td>\n",
       "      <td>9.197104</td>\n",
       "    </tr>\n",
       "    <tr>\n",
       "      <th>min</th>\n",
       "      <td>0.006320</td>\n",
       "      <td>0.000000</td>\n",
       "      <td>0.460000</td>\n",
       "      <td>0.000000</td>\n",
       "      <td>0.385000</td>\n",
       "      <td>3.561000</td>\n",
       "      <td>2.900000</td>\n",
       "      <td>1.129600</td>\n",
       "      <td>1.000000</td>\n",
       "      <td>187.000000</td>\n",
       "      <td>12.600000</td>\n",
       "      <td>0.320000</td>\n",
       "      <td>1.730000</td>\n",
       "      <td>5.000000</td>\n",
       "    </tr>\n",
       "    <tr>\n",
       "      <th>25%</th>\n",
       "      <td>0.082045</td>\n",
       "      <td>0.000000</td>\n",
       "      <td>5.190000</td>\n",
       "      <td>0.000000</td>\n",
       "      <td>0.449000</td>\n",
       "      <td>5.885500</td>\n",
       "      <td>45.025000</td>\n",
       "      <td>2.100175</td>\n",
       "      <td>4.000000</td>\n",
       "      <td>279.000000</td>\n",
       "      <td>17.400000</td>\n",
       "      <td>375.377500</td>\n",
       "      <td>6.950000</td>\n",
       "      <td>17.025000</td>\n",
       "    </tr>\n",
       "    <tr>\n",
       "      <th>50%</th>\n",
       "      <td>0.256510</td>\n",
       "      <td>0.000000</td>\n",
       "      <td>9.690000</td>\n",
       "      <td>0.000000</td>\n",
       "      <td>0.538000</td>\n",
       "      <td>6.208500</td>\n",
       "      <td>77.500000</td>\n",
       "      <td>3.207450</td>\n",
       "      <td>5.000000</td>\n",
       "      <td>330.000000</td>\n",
       "      <td>19.050000</td>\n",
       "      <td>391.440000</td>\n",
       "      <td>11.360000</td>\n",
       "      <td>21.200000</td>\n",
       "    </tr>\n",
       "    <tr>\n",
       "      <th>75%</th>\n",
       "      <td>3.677083</td>\n",
       "      <td>12.500000</td>\n",
       "      <td>18.100000</td>\n",
       "      <td>0.000000</td>\n",
       "      <td>0.624000</td>\n",
       "      <td>6.623500</td>\n",
       "      <td>94.075000</td>\n",
       "      <td>5.188425</td>\n",
       "      <td>24.000000</td>\n",
       "      <td>666.000000</td>\n",
       "      <td>20.200000</td>\n",
       "      <td>396.225000</td>\n",
       "      <td>16.955000</td>\n",
       "      <td>25.000000</td>\n",
       "    </tr>\n",
       "    <tr>\n",
       "      <th>max</th>\n",
       "      <td>88.976200</td>\n",
       "      <td>100.000000</td>\n",
       "      <td>27.740000</td>\n",
       "      <td>1.000000</td>\n",
       "      <td>0.871000</td>\n",
       "      <td>8.780000</td>\n",
       "      <td>100.000000</td>\n",
       "      <td>12.126500</td>\n",
       "      <td>24.000000</td>\n",
       "      <td>711.000000</td>\n",
       "      <td>22.000000</td>\n",
       "      <td>396.900000</td>\n",
       "      <td>37.970000</td>\n",
       "      <td>50.000000</td>\n",
       "    </tr>\n",
       "  </tbody>\n",
       "</table>\n",
       "</div>"
      ],
      "text/plain": [
       "             CRIM          ZN       INDUS        CHAS         NOX          RM  \\\n",
       "count  506.000000  506.000000  506.000000  506.000000  506.000000  506.000000   \n",
       "mean     3.613524   11.363636   11.136779    0.069170    0.554695    6.284634   \n",
       "std      8.601545   23.322453    6.860353    0.253994    0.115878    0.702617   \n",
       "min      0.006320    0.000000    0.460000    0.000000    0.385000    3.561000   \n",
       "25%      0.082045    0.000000    5.190000    0.000000    0.449000    5.885500   \n",
       "50%      0.256510    0.000000    9.690000    0.000000    0.538000    6.208500   \n",
       "75%      3.677083   12.500000   18.100000    0.000000    0.624000    6.623500   \n",
       "max     88.976200  100.000000   27.740000    1.000000    0.871000    8.780000   \n",
       "\n",
       "              AGE         DIS         RAD         TAX     PTRATIO           B  \\\n",
       "count  506.000000  506.000000  506.000000  506.000000  506.000000  506.000000   \n",
       "mean    68.574901    3.795043    9.549407  408.237154   18.455534  356.674032   \n",
       "std     28.148861    2.105710    8.707259  168.537116    2.164946   91.294864   \n",
       "min      2.900000    1.129600    1.000000  187.000000   12.600000    0.320000   \n",
       "25%     45.025000    2.100175    4.000000  279.000000   17.400000  375.377500   \n",
       "50%     77.500000    3.207450    5.000000  330.000000   19.050000  391.440000   \n",
       "75%     94.075000    5.188425   24.000000  666.000000   20.200000  396.225000   \n",
       "max    100.000000   12.126500   24.000000  711.000000   22.000000  396.900000   \n",
       "\n",
       "            LSTAT       PRICE  \n",
       "count  506.000000  506.000000  \n",
       "mean    12.653063   22.532806  \n",
       "std      7.141062    9.197104  \n",
       "min      1.730000    5.000000  \n",
       "25%      6.950000   17.025000  \n",
       "50%     11.360000   21.200000  \n",
       "75%     16.955000   25.000000  \n",
       "max     37.970000   50.000000  "
      ]
     },
     "execution_count": 118,
     "metadata": {},
     "output_type": "execute_result"
    }
   ],
   "source": [
    "# TODO \n",
    "y = np.array(df['PRICE'].values)\n",
    "df.describe()"
   ]
  },
  {
   "cell_type": "markdown",
   "metadata": {
    "id": "l9UHZEggYKd0"
   },
   "source": [
    "Use the response vector `y` to find the mean house price in thousands and the fraction of homes that are above $40k. (You may realize this is very cheap.  Prices have gone up a lot since the 1970s!).   Create print statements of the form (replace `a`'s and `b`'s with the number you get):\n",
    "\n",
    "    The mean house price is aa.bb thousands of dollars.\n",
    "    Only a.b percent are above $40k."
   ]
  },
  {
   "cell_type": "code",
   "execution_count": 119,
   "metadata": {
    "id": "265qk4h2YUrc"
   },
   "outputs": [
    {
     "name": "stdout",
     "output_type": "stream",
     "text": [
      "The mean house price is 22.53 thousands of dollars.\n",
      "Only 6.1% percent are above $40k.\n"
     ]
    }
   ],
   "source": [
    "# TODO \n",
    "mean_price = np.mean(y) \n",
    "print(f\"The mean house price is {mean_price:.2f} thousands of dollars.\")\n",
    "\n",
    "# Find fraction of homes above $40k\n",
    "frac_above_40k = np.sum(y > 40) / len(y)\n",
    "print(f\"Only {frac_above_40k:.1%} percent are above $40k.\")"
   ]
  },
  {
   "cell_type": "markdown",
   "metadata": {
    "id": "_zeK-Qoc0TXu"
   },
   "source": [
    "### **Visualizing the Data [1 point]**\n",
    "\n",
    "Python's `matplotlib` has very good routines for plotting and visualizing data that closely follows the format of MATLAB programs.  You can load the `matplotlib` package with the following commands."
   ]
  },
  {
   "cell_type": "code",
   "execution_count": null,
   "metadata": {
    "collapsed": true,
    "id": "O5Hn63Id0TXu"
   },
   "outputs": [],
   "source": [
    "import matplotlib\n",
    "import matplotlib.pyplot as plt\n",
    "%matplotlib inline"
   ]
  },
  {
   "cell_type": "markdown",
   "metadata": {
    "id": "A8BLgPQQ0TXv"
   },
   "source": [
    "Similar to the `y` vector, create a predictor vector `x` containing the values in the `RM` column, which represents the average number of rooms in each region."
   ]
  },
  {
   "cell_type": "code",
   "execution_count": 120,
   "metadata": {
    "id": "wvkiFOUP0TXv"
   },
   "outputs": [],
   "source": [
    "# TODO\n",
    "x = np.array(df['RM'].values)"
   ]
  },
  {
   "cell_type": "markdown",
   "metadata": {
    "id": "nZfFM3_z0TXv"
   },
   "source": [
    "Create a scatter plot of the `PRICE` vs. the `RM` attribute.  Make sure your plot has **grid lines** and label the axes with reasonable **labels** so that someone else can understand the plot."
   ]
  },
  {
   "cell_type": "code",
   "execution_count": 121,
   "metadata": {
    "id": "DXkjMSpY0TXv"
   },
   "outputs": [
    {
     "data": {
      "image/png": "[encoded data removed]",
      "text/plain": [
       "<Figure size 640x480 with 1 Axes>"
      ]
     },
     "metadata": {},
     "output_type": "display_data"
    }
   ],
   "source": [
    "# TODO\n",
    "# Create scatter plot\n",
    "plt.scatter(x, y)\n",
    "\n",
    "# Add title and axis labels\n",
    "plt.title(\"Scatter Plot of Price vs. Number of Rooms\")\n",
    "plt.xlabel(\"Number of Rooms\")\n",
    "plt.ylabel(\"Price\")\n",
    "\n",
    "# Add grid lines\n",
    "plt.grid(True)\n",
    "\n",
    "# Show plot\n",
    "plt.show()"
   ]
  },
  {
   "cell_type": "markdown",
   "metadata": {
    "id": "JJ6l2LRjvrEV"
   },
   "source": [
    "The number of rooms and price seem to have a linear trend, so let us try to predict price using number of rooms first. "
   ]
  },
  {
   "cell_type": "markdown",
   "metadata": {
    "id": "G-5e_O4x0TXv"
   },
   "source": [
    "### Derivation of a simple linear model for a single feature\n",
    "Suppose we have $N$ pairs of training samples $(x_1,y_1),\\ldots, (x_N,y_N)$, where $x_i \\in \\mathbb{R}$ and $y_i \\in \\mathbb{R}$. \n",
    "\n",
    "We want to perform a linear fit for this 1D data as \n",
    "$$y = wx+b,$$\n",
    "where $w\\in \\mathbb{R}$ and $b\\in \\mathbb{R}$. \n",
    "\n",
    "The optimal values of $w^*,b^*$ that minimize the loss function \n",
    "$$L(w,b) = \\sum_{i=1}^N(wx_i + b -y_i)^2$$ \n",
    "can be written as \n",
    "$$w^* = \\dfrac{\\sum_i (x_i-\\bar{x})(y_i-\\bar{y})}{\\sum_i (x_i - \\bar{x})^2}$$\n",
    "and $$b^* = \\bar{y} - w^*\\bar{x},$$\n",
    "where $\\bar{x} = \\frac{1}{N}\\sum_i x_i, \\bar{y} = \\frac{1}{N}\\sum_i y_i$ are mean values of $x_i,y_i$, respectively. \n",
    "\n"
   ]
  },
  {
   "cell_type": "markdown",
   "metadata": {
    "id": "v6wR2wx9nHRG"
   },
   "source": [
    "### **Fitting a linear model using a single feature [3 points]**\n",
    "\n",
    "Use the formulae above to compute the parameters $w,b$ in the linear model $y = wx + b$."
   ]
  },
  {
   "cell_type": "code",
   "execution_count": 122,
   "metadata": {
    "id": "HA-PyCGR0TXv"
   },
   "outputs": [],
   "source": [
    "def fit_linear(x,y):\n",
    "    \"\"\"\n",
    "    Given vectors of data points (x,y), performs a fit for the linear model:\n",
    "       yhat = w*x + b, \n",
    "    The function returns w and b\n",
    "    \"\"\"\n",
    "    # TODO complete the code below\n",
    "    x_mean = np.mean(x)\n",
    "    y_mean = np.mean(y)\n",
    "\n",
    "    # Compute w\n",
    "    w = np.sum((x - x_mean) * (y - y_mean)) / np.sum((x - x_mean) ** 2)\n",
    "\n",
    "    # Compute b\n",
    "    b = y_mean - w * x_mean\n",
    "    return w, b"
   ]
  },
  {
   "cell_type": "markdown",
   "metadata": {
    "id": "GzO9Ehhg0TXw"
   },
   "source": [
    "Using the function `fit_linear` above, print the values `w`, `b` for the linear model of price vs. number of rooms."
   ]
  },
  {
   "cell_type": "code",
   "execution_count": 123,
   "metadata": {
    "id": "LxoaYYOz0TXw"
   },
   "outputs": [
    {
     "name": "stdout",
     "output_type": "stream",
     "text": [
      "w =   9.1, b = -34.7\n"
     ]
    }
   ],
   "source": [
    "# TODO\n",
    "w, b = fit_linear(x,y)\n",
    "print('w = {0:5.1f}, b = {1:5.1f}'.format(w,b))"
   ]
  },
  {
   "cell_type": "markdown",
   "metadata": {
    "id": "bAj_BRcerz97"
   },
   "source": [
    "Does the price increase or decrease with the number of rooms? \n",
    "\n",
    "* Increase"
   ]
  },
  {
   "cell_type": "markdown",
   "metadata": {
    "id": "F71MzBOx0TXw"
   },
   "source": [
    "Replot the scatter plot above, but now with the regression line.  You can create the regression line by creating points `xp` from say min(x) to max(x), computing the linear predicted values `yp` on those points and plotting `yp` vs. `xp` on top of the above plot."
   ]
  },
  {
   "cell_type": "code",
   "execution_count": 124,
   "metadata": {
    "id": "rf9qJ_qY0TXw"
   },
   "outputs": [
    {
     "data": {
      "image/png": "[encoded data removed]",
      "text/plain": [
       "<Figure size 640x480 with 1 Axes>"
      ]
     },
     "metadata": {},
     "output_type": "display_data"
    }
   ],
   "source": [
    "# TODO\n",
    "# Points on the regression line\n",
    "plt.grid(True)\n",
    "\n",
    "# Create array of x values for regression line\n",
    "xp = np.array([np.min(x), np.max(x)])\n",
    "\n",
    "# Compute predicted y values for regression line\n",
    "yp = w * xp + b\n",
    "\n",
    "# Add regression line to plot\n",
    "plt.scatter(x, y, color='blue')\n",
    "plt.plot(xp, yp, color='red')\n",
    "\n",
    "# Show plot\n",
    "plt.show()"
   ]
  },
  {
   "cell_type": "markdown",
   "metadata": {
    "id": "v_23tqcUdIfx"
   },
   "source": [
    "### **Linear regression with multiple features/attributes [3 points]**\n",
    "One possible way to try to improve the fit is to use multiple variables at the same time."
   ]
  },
  {
   "cell_type": "markdown",
   "metadata": {
    "id": "bpsZK-mYWyFS"
   },
   "source": [
    "In this problem, the target variable will still be the `PRICE`.  We will use multiple attributes of the house to predict the price.  \n",
    "\n",
    "The names of all the data attributes are given in variable `names`. \n",
    "* We can get the list of names of the columns from `df.columns.tolist()`.  \n",
    "* Remove the last items from the list using indexing."
   ]
  },
  {
   "cell_type": "code",
   "execution_count": null,
   "metadata": {
    "id": "FYwmOGtxwuLA"
   },
   "outputs": [],
   "source": [
    "xnames = names[:-1]\n",
    "print(names[:-1])"
   ]
  },
  {
   "cell_type": "markdown",
   "metadata": {
    "id": "mLDuJkzNxUQu"
   },
   "source": [
    "Let us use `CRIM`, `RM`, and `LSTAT` to predict `PRICE`. \n",
    "\n",
    "Get the data matrix `X` with three features (`CRIM`, `RM`, `LSTAT`) and target vector `y` from the dataframe `df`.  \n",
    "\n",
    "Recall that to get the items from a dataframe, you can use syntax such as\n",
    "\n",
    "    s = np.array(df['RM'])  \n",
    "        \n",
    "which gets the data in the column `RM` and puts it into an array `s`.  You can also get multiple columns with syntax like\n",
    "\n",
    "    X12 = np.array(df[['CRIM', 'ZN']])  \n"
   ]
  },
  {
   "cell_type": "code",
   "execution_count": 125,
   "metadata": {
    "id": "Zp9Gk4O8FSty"
   },
   "outputs": [],
   "source": [
    "# TODO\n",
    "# X = ...\n",
    "X = df[['CRIM', 'RM', 'LSTAT']].values\n",
    "y = df['PRICE'].values"
   ]
  },
  {
   "cell_type": "markdown",
   "metadata": {
    "id": "jfHwrw4mzuS6"
   },
   "source": [
    "**Linear regression in scikit-learn**\n",
    "\n",
    "To fit the linear model, we could create a regression object and then fit the training data with regression object.\n",
    "\n",
    "```python\n",
    "from sklearn import linear_model\n",
    "regr = linear_model.LinearRegression()\n",
    "regr.fit(X_train,y_train)\n",
    "```\n",
    "\n",
    "You can see the coefficients as\n",
    "```python\n",
    "regr.intercept_\n",
    "regr.coef_\n",
    "```\n",
    "\n",
    "We can predict output for any data as \n",
    "```python\n",
    "y_pred = regr.predict(X)\n",
    "```\n",
    "**Instead of taking this approach, we will implement the regression function directly.**"
   ]
  },
  {
   "cell_type": "markdown",
   "metadata": {
    "id": "0Pche190FSty"
   },
   "source": [
    "**Split the Data into Training and Test**\n",
    "\n",
    "Split the data into training and test.  Use 30% for test and 70% for training.  You can do the splitting manually or use the `sklearn` package `train_test_split`.   Store the training data in `Xtr,ytr` and test data in `Xts,yts`.\n"
   ]
  },
  {
   "cell_type": "code",
   "execution_count": 126,
   "metadata": {
    "id": "8t88nZxdFSty"
   },
   "outputs": [],
   "source": [
    "# TODO\n",
    "from sklearn.model_selection import train_test_split\n",
    "\n",
    "Xtr, Xts, ytr, yts = train_test_split(X, y, test_size=0.3, random_state=42)\n",
    "\n",
    "# fit linear model on training data\n",
    "Xtr_mean = np.mean(Xtr, axis=0)\n",
    "Xtr_std = np.std(Xtr, axis=0)\n",
    "Xtr_norm = (Xtr - Xtr_mean) / Xtr_std\n",
    "\n",
    "ytr_mean = np.mean(ytr)\n",
    "ytr_std = np.std(ytr)\n",
    "ytr_norm = (ytr - ytr_mean) / ytr_std\n",
    "\n",
    "Xtr_norm = np.insert(Xtr_norm, 0, 1, axis=1) # insert column of ones\n",
    "\n",
    "w = np.linalg.inv(Xtr_norm.T.dot(Xtr_norm)).dot(Xtr_norm.T).dot(ytr_norm)\n",
    "\n",
    "b = ytr_mean - np.sum(Xtr_mean * w[1:] / Xtr_std) * ytr_std - w[0] * ytr_std\n",
    "\n",
    "# predict on training data\n",
    "Xtr_norm = (Xtr - Xtr_mean) / Xtr_std\n",
    "Xtr_norm = np.insert(Xtr_norm, 0, 1, axis=1) # insert column of ones"
   ]
  },
  {
   "cell_type": "markdown",
   "metadata": {
    "id": "QCWqasJL9I6h"
   },
   "source": [
    "Compute the predicted values `yhat_tr` on the training data and print the average square loss value on the **training** data."
   ]
  },
  {
   "cell_type": "code",
   "execution_count": 127,
   "metadata": {
    "id": "MXtUFymP9M0P"
   },
   "outputs": [
    {
     "name": "stdout",
     "output_type": "stream",
     "text": [
      "Average square loss on training data: 30.0097062502035\n"
     ]
    }
   ],
   "source": [
    "# TODO \n",
    "yhat_tr_norm = Xtr_norm.dot(w)\n",
    "yhat_tr = yhat_tr_norm * ytr_std + ytr_mean\n",
    "\n",
    "from sklearn.metrics import mean_squared_error\n",
    "mse_tr = mean_squared_error(ytr, yhat_tr)\n",
    "print(\"Average square loss on training data:\", mse_tr)"
   ]
  },
  {
   "cell_type": "markdown",
   "metadata": {
    "id": "IGcEO0ggFStz"
   },
   "source": [
    "Create a scatter plot of the actual vs. predicted values of `y` on the **training** data."
   ]
  },
  {
   "cell_type": "code",
   "execution_count": 128,
   "metadata": {
    "id": "-r__jPyk-Em-"
   },
   "outputs": [
    {
     "data": {
      "image/png": "[encoded data removed]",
      "text/plain": [
       "<Figure size 640x480 with 1 Axes>"
      ]
     },
     "metadata": {},
     "output_type": "display_data"
    }
   ],
   "source": [
    "# TODO\n",
    "import matplotlib.pyplot as plt\n",
    "\n",
    "plt.scatter(ytr, yhat_tr)\n",
    "plt.xlabel(\"Actual Values of y\")\n",
    "plt.ylabel(\"Predicted Values of y\")\n",
    "plt.title(\"Scatter Plot of Actual vs. Predicted Values on Training Data\")\n",
    "plt.show()"
   ]
  },
  {
   "cell_type": "markdown",
   "metadata": {
    "id": "1HCzNYlm-UxT"
   },
   "source": [
    "Compute the predicted values `yhat_ts` on the test data and print the average square loss value on the **test** data."
   ]
  },
  {
   "cell_type": "code",
   "execution_count": 129,
   "metadata": {
    "id": "mUKr8Dx2-UxU"
   },
   "outputs": [
    {
     "name": "stdout",
     "output_type": "stream",
     "text": [
      "Training MSE: 30.009706250203507\n",
      "Test MSE: 29.97596433076744\n"
     ]
    }
   ],
   "source": [
    "# TODO \n",
    "# compute predicted values on test data\n",
    "# add a column of ones to Xtr and Xts for the bias term\n",
    "Xtr = np.concatenate((np.ones((Xtr.shape[0], 1)), Xtr), axis=1)\n",
    "Xts = np.concatenate((np.ones((Xts.shape[0], 1)), Xts), axis=1)\n",
    "\n",
    "# compute the optimal weights using the closed-form solution\n",
    "w_hat = np.linalg.inv(Xtr.T @ Xtr) @ Xtr.T @ ytr\n",
    "\n",
    "# compute the predicted values on the training data\n",
    "yhat_tr = Xtr @ w_hat\n",
    "\n",
    "# compute the mean squared error on the training data\n",
    "mse_tr = np.mean((yhat_tr - ytr) ** 2)\n",
    "print(\"Training MSE:\", mse_tr)\n",
    "\n",
    "# compute the predicted values on the test data\n",
    "yhat_ts = Xts @ w_hat\n",
    "\n",
    "# compute the mean squared error on the test data\n",
    "mse_ts = np.mean((yhat_ts - yts) ** 2)\n",
    "print(\"Test MSE:\", mse_ts)\n"
   ]
  },
  {
   "cell_type": "markdown",
   "metadata": {
    "id": "W7i50wvq-CWO"
   },
   "source": [
    "Create a scatter plot of the actual vs. predicted values of `y` on the **test** data."
   ]
  },
  {
   "cell_type": "code",
   "execution_count": 130,
   "metadata": {
    "id": "q8dnwG94FStz"
   },
   "outputs": [
    {
     "data": {
      "image/png": "[encoded data removed]",
      "text/plain": [
       "<Figure size 640x480 with 1 Axes>"
      ]
     },
     "metadata": {},
     "output_type": "display_data"
    }
   ],
   "source": [
    "# TODO\n",
    "import matplotlib.pyplot as plt\n",
    "%matplotlib inline\n",
    "\n",
    "plt.scatter(yts, yhat_ts)\n",
    "plt.xlabel('Actual Values')\n",
    "plt.ylabel('Predicted Values')\n",
    "plt.title('Actual vs Predicted Values (Test Data)')\n",
    "plt.grid()\n",
    "plt.show()"
   ]
  },
  {
   "cell_type": "markdown",
   "metadata": {
    "id": "B75oOA9NCMwg"
   },
   "source": [
    "### **Gradient descent for linear regression [2 points]**\n",
    "Finally, we will implement the gradient descent version of linear regression.\n",
    "\n"
   ]
  },
  {
   "cell_type": "markdown",
   "metadata": {
    "id": "RxYlKzLIxf98"
   },
   "source": [
    "In particular, the function implemented should follow the following format:\n",
    "```python\n",
    "def linear_regression_gd(X,y,learning_rate = 0.00001,max_iter=10000,tol=pow(10,-5)):\n",
    "```\n",
    "where `X` is the same data matrix used above (with ones column appended), `y` is the variable to be predicted, `learning_rate` is the learning rate used ($\\alpha$ or $\\rho_t$ in the slides), `max_iter` defines the maximum number of iterations that gradient descent is allowed to run, and `tol` is defining the tolerance for convergence (which we'll discuss next).\n",
    "\n",
    "The return values for the above function should be (at the least) 1) `w` which are the regression parameters, 2) `all_cost` which is an array where each position contains the value of the objective function $L(\\mathbf{w})$ for a given iteration, 3) `iters` which counts how many iterations did the algorithm need in order to converge to a solution.\n",
    "\n",
    "Gradient descent is an iterative algorithm; it keeps updating the variables until a convergence criterion is met. In our case, our convergence criterion is whichever of the following two criteria happens first:\n",
    "\n",
    "- The maximum number of iterations is met\n",
    "- The relative improvement in the cost is not greater than the tolerance we have specified. For this criterion, you may use the following snippet into your code:\n",
    "```python\n",
    "np.absolute(all_cost[it] - all_cost[it-1])/all_cost[it-1] <= tol\n",
    "```"
   ]
  },
  {
   "cell_type": "code",
   "execution_count": 133,
   "metadata": {
    "id": "rI3bPa4CY7XW"
   },
   "outputs": [],
   "source": [
    "import numpy as np\n",
    "\n",
    "def compute_cost(X, w, y):\n",
    "    n = len(y)\n",
    "    L = np.sum(np.square(X @ w - y)) / (2 * n)\n",
    "    return L\n",
    "\n",
    "def linear_regression_gd(X, y, learning_rate=0.00001, max_iter=10000, tol=pow(10, -5)):\n",
    "    n, p = X.shape\n",
    "    w = np.zeros((p, 1))\n",
    "    all_cost = np.zeros(max_iter)\n",
    "    all_cost[0] = compute_cost(X, w, y)\n",
    "    iters = 1\n",
    "    converged = False\n",
    "    \n",
    "    while not converged and iters < max_iter:\n",
    "        w_new = w - learning_rate * X.T @ (X @ w - y) / n\n",
    "        all_cost[iters] = compute_cost(X, w_new, y)\n",
    "        if np.absolute(all_cost[iters] - all_cost[iters-1])/all_cost[iters-1] <= tol:\n",
    "            converged = True\n",
    "        else:\n",
    "            w = w_new\n",
    "            iters += 1\n",
    "    \n",
    "    return w, all_cost[:iters], iters\n"
   ]
  },
  {
   "cell_type": "markdown",
   "metadata": {
    "id": "dN2e6tsuY8Nq"
   },
   "source": [
    "### **Convergence plots [2 points]**\n",
    "After implementing gradient descent for linear regression, we would like to test that indeed our algorithm converges to a solution. In order see this, we are going to look at the value of the objective/loss function $L(\\mathbf{w})$ as a function of the number of iterations, and ideally, what we would like to see is $L(\\mathbf{w})$ drops as we run more iterations, and eventually it stabilizes. \n",
    "\n",
    "The learning rate plays a big role in how fast our algorithm converges: a larger learning rate means that the algorithm is making faster strides to the solution, whereas a smaller learning rate implies slower steps. In this question we are going to test two different values for the learning rate:\n",
    "- 0.00001\n",
    "- 0.000001\n",
    "\n",
    "while keeping the default values for the max number of iterations and the tolerance.\n",
    "\n",
    "\n",
    "- Plot the two convergence plots (cost(loss) vs. iterations)\n",
    "\n",
    "- What do you observe?\n",
    "\n"
   ]
  },
  {
   "cell_type": "code",
   "execution_count": 134,
   "metadata": {
    "id": "1vbaLoa7ZB_8"
   },
   "outputs": [
    {
     "data": {
      "text/plain": [
       "Text(0, 0.5, 'Training loss')"
      ]
     },
     "execution_count": 134,
     "metadata": {},
     "output_type": "execute_result"
    },
    {
     "data": {
      "image/png": "[encoded data removed]",
      "text/plain": [
       "<Figure size 640x480 with 1 Axes>"
      ]
     },
     "metadata": {},
     "output_type": "display_data"
    },
    {
     "data": {
      "image/png": "[encoded data removed]",
      "text/plain": [
       "<Figure size 640x480 with 1 Axes>"
      ]
     },
     "metadata": {},
     "output_type": "display_data"
    }
   ],
   "source": [
    "# test gradient descent with step size 0.00001\n",
    "(w, all_cost, iters) = linear_regression_gd(Xtr, ytr, learning_rate=0.00001, max_iter=10000, tol=pow(10,-5))  \n",
    "plt.figure(0)\n",
    "plt.semilogy(all_cost[0:iters])    \n",
    "plt.grid()\n",
    "plt.xlabel('Iteration')\n",
    "plt.ylabel('Training loss') \n",
    "\n",
    "# test gradient descent with step size 0.000001\n",
    "(w, all_cost, iters) = linear_regression_gd(Xtr, ytr, learning_rate=0.000001, max_iter=10000, tol=pow(10,-5))  \n",
    "plt.figure(1)\n",
    "plt.semilogy(all_cost[0:iters])    \n",
    "plt.grid()\n",
    "plt.xlabel('Iteration')\n",
    "plt.ylabel('Training loss')\n"
   ]
  },
  {
   "cell_type": "markdown",
   "metadata": {
    "id": "KRU51zCtZAtP"
   },
   "source": [
    "Observations: \n",
    "\n",
    "1. From the above plots, we observe that as we run more iterations, the objective/loss function L(w) decreases, which is what we expect from gradient descent. \n",
    "2.  However, we can also see that the rate of convergence is much slower for the smaller learning rate of 0.000001 compared to the larger learning rate of 0.00001. This is because a smaller learning rate implies slower steps towards the minimum of the objective function, which requires more iterations to reach. "
   ]
  },
  {
   "cell_type": "markdown",
   "metadata": {
    "id": "_7FVGGI_aqre"
   },
   "source": [
    "# **Question 2. Logistic Regression [8 points]**\n",
    "\n",
    "In this question, we will plot the logistic function and perform logistic regression. We will use the breast cancer data set.  This data set is described here: https://archive.ics.uci.edu/ml/machine-learning-databases/breast-cancer-wisconsin.\n",
    "\n",
    "Each sample is a collection of features that were manually recorded by a physician upon inspecting a sample of cells from fine needle aspiration.  The goal is to detect if the cells are benign or malignant.  \n",
    "\n",
    "We could use the `sklearn` built-in `LogisticRegression` class to find the weights for the logistic regression problem.  The `fit` routine in that class has an *optimizer* to select the weights to best match the data.  To understand how that optimizer works, in this problem, we will build a very simple gradient descent optimizer from scratch.  "
   ]
  },
  {
   "cell_type": "markdown",
   "metadata": {
    "id": "EHaz8CZBfUVr"
   },
   "source": [
    "### Loading and visualizing the Breast Cancer Data\n",
    "\n",
    "We load the data from the UCI site and remove the missing values."
   ]
  },
  {
   "cell_type": "code",
   "execution_count": 49,
   "metadata": {
    "id": "4RdmLqolffmw"
   },
   "outputs": [
    {
     "data": {
      "text/html": [
       "<div>\n",
       "<style scoped>\n",
       "    .dataframe tbody tr th:only-of-type {\n",
       "        vertical-align: middle;\n",
       "    }\n",
       "\n",
       "    .dataframe tbody tr th {\n",
       "        vertical-align: top;\n",
       "    }\n",
       "\n",
       "    .dataframe thead th {\n",
       "        text-align: right;\n",
       "    }\n",
       "</style>\n",
       "<table border=\"1\" class=\"dataframe\">\n",
       "  <thead>\n",
       "    <tr style=\"text-align: right;\">\n",
       "      <th></th>\n",
       "      <th>id</th>\n",
       "      <th>thick</th>\n",
       "      <th>size_unif</th>\n",
       "      <th>shape_unif</th>\n",
       "      <th>marg</th>\n",
       "      <th>cell_size</th>\n",
       "      <th>bare</th>\n",
       "      <th>chrom</th>\n",
       "      <th>normal</th>\n",
       "      <th>mit</th>\n",
       "      <th>class</th>\n",
       "    </tr>\n",
       "  </thead>\n",
       "  <tbody>\n",
       "    <tr>\n",
       "      <th>0</th>\n",
       "      <td>1000025</td>\n",
       "      <td>5</td>\n",
       "      <td>1</td>\n",
       "      <td>1</td>\n",
       "      <td>1</td>\n",
       "      <td>2</td>\n",
       "      <td>1.0</td>\n",
       "      <td>3</td>\n",
       "      <td>1</td>\n",
       "      <td>1</td>\n",
       "      <td>2</td>\n",
       "    </tr>\n",
       "    <tr>\n",
       "      <th>1</th>\n",
       "      <td>1002945</td>\n",
       "      <td>5</td>\n",
       "      <td>4</td>\n",
       "      <td>4</td>\n",
       "      <td>5</td>\n",
       "      <td>7</td>\n",
       "      <td>10.0</td>\n",
       "      <td>3</td>\n",
       "      <td>2</td>\n",
       "      <td>1</td>\n",
       "      <td>2</td>\n",
       "    </tr>\n",
       "    <tr>\n",
       "      <th>2</th>\n",
       "      <td>1015425</td>\n",
       "      <td>3</td>\n",
       "      <td>1</td>\n",
       "      <td>1</td>\n",
       "      <td>1</td>\n",
       "      <td>2</td>\n",
       "      <td>2.0</td>\n",
       "      <td>3</td>\n",
       "      <td>1</td>\n",
       "      <td>1</td>\n",
       "      <td>2</td>\n",
       "    </tr>\n",
       "    <tr>\n",
       "      <th>3</th>\n",
       "      <td>1016277</td>\n",
       "      <td>6</td>\n",
       "      <td>8</td>\n",
       "      <td>8</td>\n",
       "      <td>1</td>\n",
       "      <td>3</td>\n",
       "      <td>4.0</td>\n",
       "      <td>3</td>\n",
       "      <td>7</td>\n",
       "      <td>1</td>\n",
       "      <td>2</td>\n",
       "    </tr>\n",
       "    <tr>\n",
       "      <th>4</th>\n",
       "      <td>1017023</td>\n",
       "      <td>4</td>\n",
       "      <td>1</td>\n",
       "      <td>1</td>\n",
       "      <td>3</td>\n",
       "      <td>2</td>\n",
       "      <td>1.0</td>\n",
       "      <td>3</td>\n",
       "      <td>1</td>\n",
       "      <td>1</td>\n",
       "      <td>2</td>\n",
       "    </tr>\n",
       "    <tr>\n",
       "      <th>5</th>\n",
       "      <td>1017122</td>\n",
       "      <td>8</td>\n",
       "      <td>10</td>\n",
       "      <td>10</td>\n",
       "      <td>8</td>\n",
       "      <td>7</td>\n",
       "      <td>10.0</td>\n",
       "      <td>9</td>\n",
       "      <td>7</td>\n",
       "      <td>1</td>\n",
       "      <td>4</td>\n",
       "    </tr>\n",
       "  </tbody>\n",
       "</table>\n",
       "</div>"
      ],
      "text/plain": [
       "        id  thick  size_unif  shape_unif  marg  cell_size  bare  chrom  \\\n",
       "0  1000025      5          1           1     1          2   1.0      3   \n",
       "1  1002945      5          4           4     5          7  10.0      3   \n",
       "2  1015425      3          1           1     1          2   2.0      3   \n",
       "3  1016277      6          8           8     1          3   4.0      3   \n",
       "4  1017023      4          1           1     3          2   1.0      3   \n",
       "5  1017122      8         10          10     8          7  10.0      9   \n",
       "\n",
       "   normal  mit  class  \n",
       "0       1    1      2  \n",
       "1       2    1      2  \n",
       "2       1    1      2  \n",
       "3       7    1      2  \n",
       "4       1    1      2  \n",
       "5       7    1      4  "
      ]
     },
     "execution_count": 49,
     "metadata": {},
     "output_type": "execute_result"
    }
   ],
   "source": [
    "names = ['id','thick','size_unif','shape_unif','marg','cell_size','bare',\n",
    "         'chrom','normal','mit','class']\n",
    "df = pd.read_csv('https://archive.ics.uci.edu/ml/machine-learning-databases/' +\n",
    "                 'breast-cancer-wisconsin/breast-cancer-wisconsin.data',\n",
    "                names=names,na_values='?',header=None)\n",
    "df = df.dropna()\n",
    "df.head(6)"
   ]
  },
  {
   "cell_type": "markdown",
   "metadata": {
    "id": "3EEPMsFmfpqS"
   },
   "source": [
    "After loading the data, we can create a scatter plot of the data labeling the class values with different colors.  We will pick two of the features.  "
   ]
  },
  {
   "cell_type": "code",
   "execution_count": 50,
   "metadata": {
    "id": "rXSf9mKtfwbF"
   },
   "outputs": [
    {
     "data": {
      "text/plain": [
       "<matplotlib.legend.Legend at 0x7fa2422f7df0>"
      ]
     },
     "execution_count": 50,
     "metadata": {},
     "output_type": "execute_result"
    },
    {
     "data": {
      "image/png": "[encoded data removed]",
      "text/plain": [
       "<Figure size 640x480 with 1 Axes>"
      ]
     },
     "metadata": {},
     "output_type": "display_data"
    }
   ],
   "source": [
    "# Get the response.  Convert to a zero-one indicator \n",
    "yraw = np.array(df['class'])\n",
    "BEN_VAL = 2   # value in the 'class' label for benign samples\n",
    "MAL_VAL = 4   # value in the 'class' label for malignant samples\n",
    "y = (yraw == MAL_VAL).astype(int)\n",
    "Iben = (y==0)\n",
    "Imal = (y==1)\n",
    "\n",
    "# Get two predictors\n",
    "xnames =['size_unif','marg'] \n",
    "X = np.array(df[xnames])\n",
    "\n",
    "# Create the scatter plot\n",
    "plt.plot(X[Imal,0],X[Imal,1],'r.')\n",
    "plt.plot(X[Iben,0],X[Iben,1],'g.')\n",
    "plt.xlabel(xnames[0], fontsize=16)\n",
    "plt.ylabel(xnames[1], fontsize=16)\n",
    "plt.ylim(0,14)\n",
    "plt.legend(['malign','benign'],loc='upper right')"
   ]
  },
  {
   "cell_type": "markdown",
   "metadata": {
    "id": "UY5fLe90gCnU"
   },
   "source": [
    "The above plot is not informative, since many of the points are on top of one another.  Thus, we cannot see the relative frequency of points.  "
   ]
  },
  {
   "cell_type": "markdown",
   "metadata": {
    "id": "kyhRv_1hhOj3"
   },
   "source": [
    "We see that $\\sigma(wx+b)$ represents the probability that $y=1$.  The function $\\sigma(wx) > 0.5$ for $x>0$ meaning the samples are more likely to be $y=1$.  Similarly, for $x<0$, the samples are more likely to be $y=0$.  The scaling $w$ determines how fast that transition is and $b$ influences the transition point.  "
   ]
  },
  {
   "cell_type": "markdown",
   "metadata": {
    "id": "Dr2_5WR2cY9p"
   },
   "source": [
    "### **Fitting the Logistic Model on Two  Variables**\n",
    "\n",
    "We will fit the logistic model on the two variables `size_unif` and `marg`."
   ]
  },
  {
   "cell_type": "code",
   "execution_count": 100,
   "metadata": {
    "id": "WQPUSMlTcY9q"
   },
   "outputs": [
    {
     "name": "stdout",
     "output_type": "stream",
     "text": [
      "(683, 2)\n"
     ]
    }
   ],
   "source": [
    "# load data \n",
    "xnames =['size_unif','marg'] \n",
    "X = np.array(df[xnames])\n",
    "print(X.shape)"
   ]
  },
  {
   "cell_type": "markdown",
   "metadata": {
    "id": "zvgB0iCCcY9q"
   },
   "source": [
    "Next we split the data into training and test. Use 30% for test and 70% for training.  You can do the splitting manually or use the `sklearn` package `train_test_split`.   Store the training data in `Xtr,ytr` and test data in `Xts,yts`."
   ]
  },
  {
   "cell_type": "code",
   "execution_count": 110,
   "metadata": {
    "id": "2oC7pomCcY9q"
   },
   "outputs": [],
   "source": [
    "# TODO\n",
    "# TODO\n",
    "# Split into training and test\n",
    "from sklearn.model_selection import train_test_split\n",
    "Xtr, Xts, ytr, yts = train_test_split(X,y, test_size=0.30)"
   ]
  },
  {
   "cell_type": "markdown",
   "metadata": {
    "id": "Qr4ru1WYcY9v"
   },
   "source": [
    "**Logistic regression in scikit-learn**\n",
    "\n",
    "The actual fitting is easy with the `sklearn` package.  The parameter `C` \n",
    "states the level of inverse regularization strength with higher values meaning less regularization. Right now, we will select a high value to minimally regularize the estimate.\n",
    "\n",
    "We can also measure the accuracy on the test data. You should get an accuracy around 90%. "
   ]
  },
  {
   "cell_type": "code",
   "execution_count": 111,
   "metadata": {
    "id": "lKGhsUYfzUx3"
   },
   "outputs": [
    {
     "name": "stdout",
     "output_type": "stream",
     "text": [
      "[[1.45559818 0.3272606 ]]\n",
      "[-5.59089751]\n",
      "Accuracy on test data = 0.960976\n"
     ]
    }
   ],
   "source": [
    "from sklearn import datasets, linear_model, preprocessing\n",
    "reg = linear_model.LogisticRegression(C=1e5)\n",
    "reg.fit(Xtr, ytr)\n",
    "\n",
    "print(reg.coef_)\n",
    "print(reg.intercept_)\n",
    "\n",
    "yhat = reg.predict(Xts)\n",
    "acc = np.mean(yhat == yts)\n",
    "print(\"Accuracy on test data = %f\" % acc)"
   ]
  },
  {
   "cell_type": "markdown",
   "metadata": {
    "id": "dOhsTYG6zXDk"
   },
   "source": [
    "**Instead of taking this approach, we will implement the regression function using gradient descent.**"
   ]
  },
  {
   "cell_type": "markdown",
   "metadata": {
    "id": "KCTbi1wTcbIn"
   },
   "source": [
    "### **Gradient descent for logistic regression [4 points]**\n",
    "The weight vector can be found by minimizing the negative log likelihood over $N$ training samples.  The negative log likelihood is called the *loss* function.  For the logistic regression problem, the loss function simplifies to\n",
    "\n",
    "$$L(\\mathbf{w}) = - \\sum_{i=1}^N y_i \\log \\sigma(\\mathbf{w}^T\\mathbf{x}_i+b) + (1-y_i)\\log [1-\\sigma(\\mathbf{w}^T\\mathbf{x}_i+b)].$$\n",
    "\n",
    "Gradient can be computed as $$\\nabla_\\mathbf{w}L = \\sum_{i=1}^N(\\sigma(\\mathbf{w}^T\\mathbf{x}_i)-y_i)\\mathbf{x}_i ,~~~ \\nabla_b L = \\sum_{i=1}^N(\\sigma(\\mathbf{w}^T\\mathbf{x}_i)-y_i).$$\n",
    "\n",
    "\n",
    "We can update $\\mathbf{w},b$ at every iteration as  \n",
    "$$ \\mathbf{w} \\gets \\mathbf{w} - \\alpha \\nabla_\\mathbf{w}L, \\\\ b \\gets b - \\alpha \\nabla_b L.$$ \n",
    "\n",
    "**Note that we could also append the constant term in $\\mathbf{w}$ and append 1 to every $\\mathbf{x}_i$ accordingly, but we kept them separate in the expressions above.**\n",
    "\n",
    " "
   ]
  },
  {
   "cell_type": "markdown",
   "metadata": {
    "id": "QNa10nUiS5ru"
   },
   "source": [
    "**Gradient descent function implementation** \n",
    "\n",
    "We will use this loss function and gradient to implement a gradient descent-based method for logistic regression.\n",
    "\n",
    "Recall that training a logistic function means finding a weight vector `w` for the classification rule:\n",
    "$$P(y=1|x,w) = \\frac{1}{1+e^{-z}}, z = w[0]+w[1]\\cdot x[1] + \\cdots + w[d]\\cdot x[d]$$\n",
    "    \n",
    "    \n",
    "The function implemented should follow the following format:\n",
    "```python\n",
    "def logistic_regression_gd(X,y,learning_rate = 0.001,max_iter=1000,tol=pow(10,-5)):\n",
    "```\n",
    "Where `X` is the training data feature(s), `y` is the variable to be predicted, `learning_rate` is the learning rate used ($\\alpha$ in the slides), `max_iter` defines the maximum number of iterations that gradient descent is allowed to run, and `tol` is defining the tolerance for convergence (which we'll discuss next).\n",
    "\n",
    "The return values for the above function should be (at the least):\n",
    "\n",
    "1. `w` which are the regression parameters, \n",
    "\n",
    "2. `all_cost` which is an array where each position contains the value of the objective function $L(\\mathbf{w})$ for a given iteration, \n",
    "\n",
    "3. `iters` which counts how many iterations did the algorithm need in order to converge to a solution.\n",
    "\n",
    "Gradient descent is an iterative algorithm; it keeps updating the variables until a convergence criterion is met. In our case, our convergence criterion is whichever of the following two criteria happens first:\n",
    "\n",
    "- The maximum number of iterations is met\n",
    "- The relative improvement in the cost is not greater than the tolerance we have specified. For this criterion, you may use the following snippet into your code:\n",
    "```python\n",
    "np.absolute(all_cost[it] - all_cost[it-1])/all_cost[it-1] <= tol\n",
    "```"
   ]
  },
  {
   "cell_type": "code",
   "execution_count": 112,
   "metadata": {},
   "outputs": [],
   "source": [
    "import math  \n",
    "\n",
    "import numpy as np\n",
    "\n",
    "def sigmoid(z):\n",
    "    return 1 / (1 + np.exp(-z))\n",
    "\n",
    "\n",
    "def compute_cost_2(X, w, y, b):\n",
    "    # your code for the loss function goes here\n",
    "    s_params = np.dot(X, w) + b\n",
    "    s = 1 / (1 + np.exp(-s_params))\n",
    "    cost = np.mean(-y * np.log(s) - (1 - y) * np.log(1 - s))\n",
    "    return cost\n",
    "\n",
    "def compute_gradients(X, w, y, b):\n",
    "    # compute the gradients\n",
    "    delta_w = np.zeros_like(w)\n",
    "    delta_b = 0\n",
    "    for i, y_val in zip(X, y):\n",
    "            s_params = w.T@i + b\n",
    "            diff =sigmoid(s_params) - y_val\n",
    "            gradient_b = diff\n",
    "            gradient_w = diff * i\n",
    "            delta_w = delta_w + gradient_w\n",
    "            delta_b = delta_b + gradient_b\n",
    "    return delta_w, delta_b\n",
    "\n",
    "def logistic_regression_gd(X, y, learning_rate=0.00001, max_iter=1000, tol=pow(10,-5)):\n",
    "    # perform logistic regression using gradient descent\n",
    "    w = np.zeros(X[0].shape[0])\n",
    "    b = 0\n",
    "    all_cost = []\n",
    "    ite = 0\n",
    "    \n",
    "    for it in range(max_iter):\n",
    "        dw, db = compute_gradients(X, w, y, b)\n",
    "        w = w - learning_rate * dw\n",
    "        b = b - learning_rate * db\n",
    "        cost = compute_cost(X, w, y, b)\n",
    "        all_cost.append(cost)\n",
    "        ite = it + 1\n",
    "            \n",
    "    return w, b, all_cost, ite\n"
   ]
  },
  {
   "cell_type": "markdown",
   "metadata": {
    "id": "08r6_M-98clK"
   },
   "source": [
    "### **Convergence plots and test accuracy [4 points]**\n",
    "\n",
    "After implementing gradient descent for logistic regression, we would like to test that indeed our algorithm converges to a solution. In order see this, we are going to look at the value of the objective/loss function $L(\\mathbf{w})$ as a function of the number of iterations, and ideally, what we would like to see is $L(\\mathbf{w})$ drops as we run more iterations, and eventually it stabilizes. \n",
    "\n",
    "The learning rate plays a big role in how fast our algorithm converges: a larger learning rate means that the algorithm is making faster strides to the solution, whereas a smaller learning rate implies slower steps. In this question we are going to test two different values for the learning rate:\n",
    "- 0.001\n",
    "- 0.00001\n",
    "\n",
    "while keeping the default values for the max number of iterations and the tolerance.\n",
    "\n",
    "\n",
    "- Plot the two convergence plots (cost vs. iterations)\n",
    "- Calculate the accuracy of classifier on the test data `Xts` \n",
    "- What do you observe? \n"
   ]
  },
  {
   "cell_type": "markdown",
   "metadata": {
    "id": "2XWJPz_uU1zT"
   },
   "source": [
    "**Calculate accuracy of your classifier on test data**\n",
    "\n",
    "To calculate the accuracy of our classifier on the test data, we can create a predict method. \n",
    "\n",
    "Implement a function `predict(X,w)` that provides you label 1 if $\\mathbf{w}^T\\mathbf{x} + b > 0$ and 0 otherwise.  "
   ]
  },
  {
   "cell_type": "code",
   "execution_count": 113,
   "metadata": {},
   "outputs": [],
   "source": [
    "# TODO \n",
    "# Predict on test samples and measure accuracy\n",
    "def predict(X,w, b):\n",
    "    # your code goes here \n",
    "    pre_vals = []\n",
    "    \n",
    "    for i in X:\n",
    "        label_gen = np.dot(w.T,i) +b\n",
    "        pre_vals.append(label_gen)\n",
    "        \n",
    "    yhat=[]\n",
    "    for i in pre_vals:\n",
    "        if(i > 0):\n",
    "            yhat.append(1)\n",
    "        else:\n",
    "            yhat.append(0)\n",
    "    return yhat"
   ]
  },
  {
   "cell_type": "code",
   "execution_count": 114,
   "metadata": {},
   "outputs": [
    {
     "name": "stdout",
     "output_type": "stream",
     "text": [
      "First Test accuracy = 96.097561 %\n",
      "Second Test accuracy = 94.634146 %\n"
     ]
    },
    {
     "data": {
      "image/png": "[encoded data removed]",
      "text/plain": [
       "<Figure size 1000x1000 with 1 Axes>"
      ]
     },
     "metadata": {},
     "output_type": "display_data"
    }
   ],
   "source": [
    "# TODO \n",
    "# test gradient descent with step size 0.001\n",
    "# test gradient descent with step size 0.00001\n",
    " \n",
    "(w_1, b_1, all_cost_1,iters) = logistic_regression_gd(Xtr,ytr,learning_rate = 0.001,max_iter = 1000, tol=pow(10,-6))\n",
    "(w_2, b_2, all_cost_2,iters) = logistic_regression_gd(Xtr,ytr,learning_rate = 0.00001,max_iter = 1000, tol=pow(10,-6))\n",
    "\n",
    "plt.figure(figsize = [10,10])\n",
    "\n",
    "plt.semilogy(all_cost_1[0:iters], label = \"Step Size = 0.001\")\n",
    "plt.semilogy(all_cost_2[0:iters], label = \"Step Size = 0.00001\")    \n",
    "\n",
    "plt.grid()\n",
    "plt.xlabel('Iteration')\n",
    "plt.ylabel('Training loss') \n",
    "plt.legend()\n",
    "\n",
    "yhat_1 = predict(Xts,w_1,b_1)\n",
    "acc_1 = np.mean(yhat_1 == yts) * 100\n",
    "print(\"First Test accuracy = %f\" % acc_1, \"%\")\n",
    "\n",
    "yhat_2 = predict(Xts,w_2,b_2)\n",
    "acc_2 = np.mean(yhat_2 == yts) * 100\n",
    "print(\"Second Test accuracy = %f\" % acc_2, \"%\")\n",
    "\n",
    "# complete the rest "
   ]
  },
  {
   "cell_type": "markdown",
   "metadata": {
    "id": "Zu5HpI_-8clL"
   },
   "source": [
    "Observations: \n",
    "\n",
    "1. From the convergence plots, we can observe that the value of the objective function decreases as the number of iterations increases for both learning rates. However, we can see that the convergence is much faster for the learning rate of 0.001 compared to 0.00001. This is expected since a larger learning rate implies faster steps towards the minimum.\n",
    "\n",
    "2. Regarding the test accuracy, we can observe that the classifier trained with a learning rate of 0.001 has a higher accuracy of 96.097561% compared to the one trained with a learning rate of 0.00001 which has an accuracy of 94.634146%. This again confirms that a larger learning rate generally leads to faster convergence and potentially better accuracy. However, the learning rate needs to be chosen carefully to avoid overshooting and oscillations around the minimum.\n",
    " "
   ]
  }
 ],
 "metadata": {
  "colab": {
   "provenance": []
  },
  "kernelspec": {
   "display_name": "Python 3 (ipykernel)",
   "language": "python",
   "name": "python3"
  },
  "language_info": {
   "codemirror_mode": {
    "name": "ipython",
    "version": 3
   },
   "file_extension": ".py",
   "mimetype": "text/x-python",
   "name": "python",
   "nbconvert_exporter": "python",
   "pygments_lexer": "ipython3",
   "version": "3.9.13"
  }
 },
 "nbformat": 4,
 "nbformat_minor": 1
}
